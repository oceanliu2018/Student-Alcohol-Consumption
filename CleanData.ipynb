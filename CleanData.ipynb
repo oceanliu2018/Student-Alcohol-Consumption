{
 "cells": [
  {
   "cell_type": "code",
   "execution_count": 8,
   "metadata": {
    "collapsed": true
   },
   "outputs": [],
   "source": [
    "import pandas as pd\n",
    "import numpy as np\n"
   ]
  },
  {
   "cell_type": "code",
   "execution_count": 9,
   "metadata": {
    "collapsed": true
   },
   "outputs": [],
   "source": [
    "df = pd.read_csv('student-mat.csv')\n",
    "# Remove non binary variables\n",
    "df = df.drop(['Mjob','Fjob','reason','guardian'],axis=1)\n"
   ]
  },
  {
   "cell_type": "code",
   "execution_count": 10,
   "metadata": {
    "collapsed": true
   },
   "outputs": [],
   "source": [
    "# Convert categorical variables to binary\n",
    "binschool = {\"GP\":(0),\"MS\":(1)}\n",
    "df['school'] = df['school'].map(binschool)\n",
    "binaddress = {'U':(0),\"R\":(1)}\n",
    "df['address'] = df['address'].map(binaddress)\n",
    "binsex = {\"F\":(1),'M':(0)}\n",
    "df['sex'] = df['sex'].map(binsex)\n",
    "binfamsize = {\"GT3\":(1),\"LE3\":(0)}\n",
    "df['famsize'] = df['famsize'].map(binfamsize)\n",
    "binPstatus = {\"A\":(0),\"T\":(1)}\n",
    "df['Pstatus'] = df['Pstatus'].map(binPstatus)\n",
    "binschoolsup = {'yes':(1),'no':(0)}\n",
    "df['schoolsup'] = df['schoolsup'].map(binschoolsup)\n",
    "binfamsup = {'yes':(1),'no':(0)}\n",
    "df['famsup'] = df['famsup'].map(binfamsup)\n",
    "binpaid = {'yes':(1),'no':(0)}\n",
    "df['paid'] = df['paid'].map(binpaid)\n",
    "binactivities = {'yes':(1),'no':(0)}\n",
    "df['activities'] = df['activities'].map(binactivities)\n",
    "binnursery = {'yes':(1),'no':(0)}\n",
    "df['nursery'] = df['nursery'].map(binnursery)\n",
    "binhigher = {'yes':(1),'no':(0)}\n",
    "df['higher'] = df['higher'].map(binhigher)\n",
    "\n",
    "bininternet = {'yes':(1),'no':(0)}\n",
    "df['internet'] = df['internet'].map(bininternet)\n",
    "binromantic = {'yes':(1),'no':(0)}\n",
    "df['romantic'] = df['romantic'].map(binromantic)\n",
    "alc = df[['Dalc',\"Walc\"]].mean(axis=1)\n",
    "med = np.median(alc)\n",
    "df['alc'] = alc\n",
    "df['drinker'] = (df['alc']>med).astype(int)\n",
    "\n",
    "df\n",
    "df.to_csv('cleandata.csv')\n"
   ]
  },
  {
   "cell_type": "code",
   "execution_count": null,
   "metadata": {
    "collapsed": true
   },
   "outputs": [],
   "source": []
  }
 ],
 "metadata": {
  "kernelspec": {
   "display_name": "Python 3",
   "language": "python",
   "name": "python3"
  },
  "language_info": {
   "codemirror_mode": {
    "name": "ipython",
    "version": 3
   },
   "file_extension": ".py",
   "mimetype": "text/x-python",
   "name": "python",
   "nbconvert_exporter": "python",
   "pygments_lexer": "ipython3",
   "version": "3.6.1"
  }
 },
 "nbformat": 4,
 "nbformat_minor": 2
}
