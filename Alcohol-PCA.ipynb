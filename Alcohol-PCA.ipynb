{
 "cells": [
  {
   "cell_type": "code",
   "execution_count": 15,
   "metadata": {},
   "outputs": [
    {
     "name": "stdout",
     "output_type": "stream",
     "text": [
      "Populating the interactive namespace from numpy and matplotlib\n"
     ]
    }
   ],
   "source": [
    "%pylab inline\n",
    "import matplotlib.pyplot as plt"
   ]
  },
  {
   "cell_type": "code",
   "execution_count": 23,
   "metadata": {
    "scrolled": true
   },
   "outputs": [
    {
     "name": "stdout",
     "output_type": "stream",
     "text": [
      "[ 0.12972116  0.08687518  0.07333316  0.05674997  0.05095878  0.04752865\n",
      "  0.04531212  0.03970188  0.03788471  0.03613619  0.0355547   0.03404775\n",
      "  0.03137137  0.03011906  0.02801246  0.02668526  0.02546411  0.0242717\n",
      "  0.02398014  0.02184765  0.02096623  0.01885685  0.01760724  0.0169237\n",
      "  0.01423922  0.01147503  0.00609662  0.00557428  0.00270483]\n",
      "[ 0.12972116  0.21659635  0.28992951  0.34667948  0.39763826  0.44516691\n",
      "  0.49047903  0.53018091  0.56806562  0.6042018   0.6397565   0.67380425\n",
      "  0.70517561  0.73529468  0.76330714  0.7899924   0.81545651  0.83972821\n",
      "  0.86370835  0.885556    0.90652223  0.92537909  0.94298633  0.95991003\n",
      "  0.97414925  0.98562428  0.99172089  0.99729517  1.        ]\n"
     ]
    },
    {
     "data": {
      "image/png": "[encoded data removed]",
      "text/plain": [
       "<matplotlib.figure.Figure at 0x117b9f98>"
      ]
     },
     "metadata": {},
     "output_type": "display_data"
    },
    {
     "data": {
      "image/png": "[encoded data removed]",
      "text/plain": [
       "<matplotlib.figure.Figure at 0x11b9eda0>"
      ]
     },
     "metadata": {},
     "output_type": "display_data"
    }
   ],
   "source": [
    "import pandas as pd\n",
    "data = pd.read_csv(\"cleandata.csv\")\n",
    "import numpy as np\n",
    "from sklearn.decomposition import PCA\n",
    "from sklearn import preprocessing\n",
    "data_scaled = preprocessing.scale(data)\n",
    "\n",
    "pca = PCA()\n",
    "pca.fit(data_scaled)\n",
    "\n",
    "X = pca.transform(data_scaled)\n",
    "#print X\n",
    "#print X.shape\n",
    "#print X.T.dot(X)\n",
    "#print sum(sum(X))\n",
    "\n",
    "print pca.explained_variance_ratio_\n",
    "print np.cumsum(pca.explained_variance_ratio_)\n",
    "\n",
    "var_exp = pca.explained_variance_ratio_\n",
    "plt.bar(range(len(var_exp)), var_exp)\n",
    "plt.show()\n",
    "\n",
    "plt.bar(range(len(var_exp)), np.cumsum(var_exp))\n",
    "axhline(y=0.5, color='r')\n",
    "plt.show()\n",
    "\n",
    "\n",
    "#mean_vec = np.mean(data, axis=0)\n",
    "#cov_mat = (data - mean_vec).T.dot((data - mean_vec)) / (data.shape[0]-1)\n",
    "#eig_vals, eig_vecs = np.linalg.eig(cov_mat)\n",
    "#cor_mat = np.corrcoef(data.T)\n",
    "#eig_vals, eig_vecs = np.linalg.eig(cor_mat)\n",
    "#eig_pairs = [(np.abs(eig_vals[i]), eig_vecs[:,i]) for i in range(len(eig_vals))]\n",
    "#eig_pairs.sort()\n",
    "#eig_pairs.reverse()\n",
    "#print('Eigenvalues in descending order:')\n",
    "#for i in eig_pairs:\n",
    "#    print(i[0])\n",
    "\n",
    "#matrix_w = np.hstack((eig_pairs[0][1].reshape(32,1), \n",
    "#                      eig_pairs[1][1].reshape(32,1)))\n",
    "#print('Matrix W:\\n', matrix_w)"
   ]
  },
  {
   "cell_type": "code",
   "execution_count": null,
   "metadata": {
    "collapsed": true
   },
   "outputs": [],
   "source": []
  }
 ],
 "metadata": {
  "kernelspec": {
   "display_name": "Python 3",
   "language": "python",
   "name": "python3"
  },
  "language_info": {
   "codemirror_mode": {
    "name": "ipython",
    "version": 3
   },
   "file_extension": ".py",
   "mimetype": "text/x-python",
   "name": "python",
   "nbconvert_exporter": "python",
   "pygments_lexer": "ipython3",
   "version": "3.6.1"
  }
 },
 "nbformat": 4,
 "nbformat_minor": 2
}
